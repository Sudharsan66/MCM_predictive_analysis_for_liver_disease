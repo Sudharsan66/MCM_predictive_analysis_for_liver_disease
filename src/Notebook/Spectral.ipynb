{
 "cells": [
  {
   "cell_type": "code",
   "execution_count": 44,
   "metadata": {},
   "outputs": [],
   "source": [
    "import numpy as np\n",
    "import pandas as pd\n",
    "from sklearn.impute import SimpleImputer\n",
    "from sklearn.preprocessing import StandardScaler, OneHotEncoder\n",
    "\n",
    "from sklearn.cluster import SpectralClustering\n",
    "from sklearn.metrics import pairwise_distances\n",
    "import matplotlib.pyplot as plt\n",
    "\n",
    "from sklearn.metrics import silhouette_score, accuracy_score, classification_report\n",
    "from sklearn.model_selection import train_test_split\n",
    "from sklearn.linear_model import LogisticRegression\n",
    "from sklearn.ensemble import RandomForestClassifier\n",
    "from sklearn.svm import LinearSVC\n",
    "from sklearn.naive_bayes import GaussianNB\n",
    "from sklearn.neighbors import KNeighborsClassifier\n",
    "from sklearn.neural_network import MLPClassifier\n",
    "from sklearn.tree import DecisionTreeClassifier\n",
    "from sklearn.preprocessing import StandardScaler\n",
    "\n",
    "\n",
    "\n"
   ]
  },
  {
   "cell_type": "code",
   "execution_count": 21,
   "metadata": {},
   "outputs": [],
   "source": [
    "file_path = 'src\\\\Dataset\\\\Liver Patient Dataset (LPD)_train.csv'\n",
    "data = pd.read_csv(file_path, encoding='ISO-8859-1')\n"
   ]
  },
  {
   "cell_type": "code",
   "execution_count": 37,
   "metadata": {},
   "outputs": [],
   "source": [
    "data.columns = data.columns.str.strip()"
   ]
  },
  {
   "cell_type": "code",
   "execution_count": 33,
   "metadata": {},
   "outputs": [],
   "source": [
    "nafld_columns = ['Age of the patient', 'Total Bilirubin', 'ALB Albumin', 'Sgpt Alamine Aminotransferase', 'Sgot Aspartate Aminotransferase']\n",
    "lft_columns = ['Total Bilirubin', 'Direct Bilirubin', 'Alkphos Alkaline Phosphotase', 'Sgpt Alamine Aminotransferase', 'Sgot Aspartate Aminotransferase', 'Total Protiens', 'ALB Albumin', 'A/G Ratio Albumin and Globulin Ratio']\n",
    "albi_columns = ['Total Bilirubin', 'ALB Albumin']"
   ]
  },
  {
   "cell_type": "code",
   "execution_count": 22,
   "metadata": {},
   "outputs": [
    {
     "name": "stderr",
     "output_type": "stream",
     "text": [
      "C:\\Users\\ssudh\\AppData\\Local\\Temp\\ipykernel_7512\\4020430053.py:3: FutureWarning: A value is trying to be set on a copy of a DataFrame or Series through chained assignment using an inplace method.\n",
      "The behavior will change in pandas 3.0. This inplace method will never work because the intermediate object on which we are setting values always behaves as a copy.\n",
      "\n",
      "For example, when doing 'df[col].method(value, inplace=True)', try using 'df.method({col: value}, inplace=True)' or df[col] = df[col].method(value) instead, to perform the operation inplace on the original object.\n",
      "\n",
      "\n",
      "  data['Gender of the patient'].fillna(data['Gender of the patient'].mode()[0], inplace=True)\n"
     ]
    }
   ],
   "source": [
    "\n",
    "data['Gender of the patient'].fillna(data['Gender of the patient'].mode()[0], inplace=True)\n",
    "numeric_features = data.select_dtypes(include=[np.number]).columns\n",
    "categorical_features = ['Gender of the patient']"
   ]
  },
  {
   "cell_type": "code",
   "execution_count": 23,
   "metadata": {},
   "outputs": [],
   "source": [
    "\n",
    "imputer = SimpleImputer(strategy='mean')\n",
    "data[numeric_features] = imputer.fit_transform(data[numeric_features])"
   ]
  },
  {
   "cell_type": "code",
   "execution_count": 24,
   "metadata": {},
   "outputs": [],
   "source": [
    "encoder = OneHotEncoder(drop='first')\n",
    "gender_encoded = encoder.fit_transform(data[categorical_features]).toarray()\n"
   ]
  },
  {
   "cell_type": "code",
   "execution_count": 25,
   "metadata": {},
   "outputs": [
    {
     "data": {
      "text/html": [
       "<div>\n",
       "<style scoped>\n",
       "    .dataframe tbody tr th:only-of-type {\n",
       "        vertical-align: middle;\n",
       "    }\n",
       "\n",
       "    .dataframe tbody tr th {\n",
       "        vertical-align: top;\n",
       "    }\n",
       "\n",
       "    .dataframe thead th {\n",
       "        text-align: right;\n",
       "    }\n",
       "</style>\n",
       "<table border=\"1\" class=\"dataframe\">\n",
       "  <thead>\n",
       "    <tr style=\"text-align: right;\">\n",
       "      <th></th>\n",
       "      <th>Age of the patient</th>\n",
       "      <th>Gender of the patient</th>\n",
       "      <th>Total Bilirubin</th>\n",
       "      <th>Direct Bilirubin</th>\n",
       "      <th>Alkphos Alkaline Phosphotase</th>\n",
       "      <th>Sgpt Alamine Aminotransferase</th>\n",
       "      <th>Sgot Aspartate Aminotransferase</th>\n",
       "      <th>Total Protiens</th>\n",
       "      <th>ALB Albumin</th>\n",
       "      <th>A/G Ratio Albumin and Globulin Ratio</th>\n",
       "      <th>Result</th>\n",
       "    </tr>\n",
       "  </thead>\n",
       "  <tbody>\n",
       "    <tr>\n",
       "      <th>0</th>\n",
       "      <td>65.0</td>\n",
       "      <td>Female</td>\n",
       "      <td>0.7</td>\n",
       "      <td>0.1</td>\n",
       "      <td>187.0</td>\n",
       "      <td>16.0</td>\n",
       "      <td>18.0</td>\n",
       "      <td>6.8</td>\n",
       "      <td>3.3</td>\n",
       "      <td>0.90</td>\n",
       "      <td>1.0</td>\n",
       "    </tr>\n",
       "    <tr>\n",
       "      <th>1</th>\n",
       "      <td>62.0</td>\n",
       "      <td>Male</td>\n",
       "      <td>10.9</td>\n",
       "      <td>5.5</td>\n",
       "      <td>699.0</td>\n",
       "      <td>64.0</td>\n",
       "      <td>100.0</td>\n",
       "      <td>7.5</td>\n",
       "      <td>3.2</td>\n",
       "      <td>0.74</td>\n",
       "      <td>1.0</td>\n",
       "    </tr>\n",
       "    <tr>\n",
       "      <th>2</th>\n",
       "      <td>62.0</td>\n",
       "      <td>Male</td>\n",
       "      <td>7.3</td>\n",
       "      <td>4.1</td>\n",
       "      <td>490.0</td>\n",
       "      <td>60.0</td>\n",
       "      <td>68.0</td>\n",
       "      <td>7.0</td>\n",
       "      <td>3.3</td>\n",
       "      <td>0.89</td>\n",
       "      <td>1.0</td>\n",
       "    </tr>\n",
       "  </tbody>\n",
       "</table>\n",
       "</div>"
      ],
      "text/plain": [
       "   Age of the patient Gender of the patient  Total Bilirubin  \\\n",
       "0                65.0                Female              0.7   \n",
       "1                62.0                  Male             10.9   \n",
       "2                62.0                  Male              7.3   \n",
       "\n",
       "   Direct Bilirubin   Alkphos Alkaline Phosphotase  \\\n",
       "0               0.1                          187.0   \n",
       "1               5.5                          699.0   \n",
       "2               4.1                          490.0   \n",
       "\n",
       "    Sgpt Alamine Aminotransferase  Sgot Aspartate Aminotransferase  \\\n",
       "0                            16.0                             18.0   \n",
       "1                            64.0                            100.0   \n",
       "2                            60.0                             68.0   \n",
       "\n",
       "   Total Protiens   ALB Albumin  A/G Ratio Albumin and Globulin Ratio  Result  \n",
       "0             6.8           3.3                                  0.90     1.0  \n",
       "1             7.5           3.2                                  0.74     1.0  \n",
       "2             7.0           3.3                                  0.89     1.0  "
      ]
     },
     "execution_count": 25,
     "metadata": {},
     "output_type": "execute_result"
    }
   ],
   "source": [
    "data.head(3)"
   ]
  },
  {
   "cell_type": "code",
   "execution_count": 26,
   "metadata": {},
   "outputs": [],
   "source": [
    "gender_encoded_df = pd.DataFrame(gender_encoded, columns=[f\"Gender_{i}\" for i in range(gender_encoded.shape[1])])\n",
    "\n",
    "data = data.drop(columns=categorical_features)\n",
    "data = pd.concat([data, gender_encoded_df], axis=1)\n",
    "\n",
    "data.columns = data.columns.astype(str)\n"
   ]
  },
  {
   "cell_type": "code",
   "execution_count": 27,
   "metadata": {},
   "outputs": [],
   "source": [
    "scaler = StandardScaler()\n",
    "data_scaled = scaler.fit_transform(data)\n"
   ]
  },
  {
   "cell_type": "code",
   "execution_count": 28,
   "metadata": {},
   "outputs": [],
   "source": [
    "def optimal_clusters(data, max_clusters=10):\n",
    "    distances = pairwise_distances(data, metric='euclidean')\n",
    "    laplacian = np.diag(distances.sum(axis=1)) - distances\n",
    "    eigenvalues, eigenvectors = np.linalg.eigh(laplacian)\n",
    "    \n",
    "    plt.figure(figsize=(10, 6))\n",
    "    plt.plot(range(1, max_clusters + 1), np.diff(eigenvalues[:max_clusters + 1]), marker='o')\n",
    "    plt.xlabel('Number of clusters')\n",
    "    plt.ylabel('Eigengap')\n",
    "    plt.title('Eigengap Heuristic')\n",
    "    plt.show()\n",
    "    \n",
    "    eigengap = np.diff(eigenvalues[:max_clusters + 1])\n",
    "    optimal_k = np.argmax(eigengap) + 1\n",
    "    return optimal_k\n"
   ]
  },
  {
   "cell_type": "code",
   "execution_count": 29,
   "metadata": {},
   "outputs": [
    {
     "data": {
      "image/png": "[encoded data removed]",
      "text/plain": [
       "<Figure size 1000x600 with 1 Axes>"
      ]
     },
     "metadata": {},
     "output_type": "display_data"
    }
   ],
   "source": [
    "optimal_k = optimal_clusters(data_scaled)"
   ]
  },
  {
   "cell_type": "code",
   "execution_count": null,
   "metadata": {},
   "outputs": [],
   "source": []
  },
  {
   "cell_type": "code",
   "execution_count": 53,
   "metadata": {},
   "outputs": [
    {
     "name": "stderr",
     "output_type": "stream",
     "text": [
      "C:\\Users\\ssudh\\AppData\\Local\\Packages\\PythonSoftwareFoundation.Python.3.12_qbz5n2kfra8p0\\LocalCache\\local-packages\\Python312\\site-packages\\sklearn\\manifold\\_spectral_embedding.py:301: UserWarning: Graph is not fully connected, spectral embedding may not work as expected.\n",
      "  warnings.warn(\n",
      "C:\\Users\\ssudh\\AppData\\Local\\Packages\\PythonSoftwareFoundation.Python.3.12_qbz5n2kfra8p0\\LocalCache\\local-packages\\Python312\\site-packages\\sklearn\\manifold\\_spectral_embedding.py:301: UserWarning: Graph is not fully connected, spectral embedding may not work as expected.\n",
      "  warnings.warn(\n",
      "C:\\Users\\ssudh\\AppData\\Local\\Packages\\PythonSoftwareFoundation.Python.3.12_qbz5n2kfra8p0\\LocalCache\\local-packages\\Python312\\site-packages\\sklearn\\manifold\\_spectral_embedding.py:301: UserWarning: Graph is not fully connected, spectral embedding may not work as expected.\n",
      "  warnings.warn(\n"
     ]
    }
   ],
   "source": [
    "data_nafld = data[nafld_columns]\n",
    "data_lft = data[lft_columns]\n",
    "data_albi = data[albi_columns]\n",
    "\n",
    "spectral = SpectralClustering(n_clusters=optimal_k, affinity='nearest_neighbors', random_state=42)\n",
    "\n",
    "nafld_clusters = spectral.fit_predict(data_nafld)\n",
    "lft_clusters = spectral.fit_predict(data_lft)\n",
    "albi_clusters = spectral.fit_predict(data_albi)\n",
    "\n",
    "\n"
   ]
  },
  {
   "cell_type": "code",
   "execution_count": 54,
   "metadata": {},
   "outputs": [],
   "source": [
    "data['NAFLD_Spectral_Cluster'] = nafld_clusters\n",
    "data['LFT_Spectral_Cluster'] = lft_clusters\n",
    "data['ALBI_Spectral_Cluster'] = albi_clusters"
   ]
  },
  {
   "cell_type": "code",
   "execution_count": 55,
   "metadata": {},
   "outputs": [],
   "source": [
    "X_nafld = data[nafld_columns + ['NAFLD_Spectral_Cluster']]\n",
    "X_lft = data[lft_columns + ['LFT_Spectral_Cluster']]\n",
    "X_albi = data[albi_columns + [ 'ALBI_Spectral_Cluster']]\n",
    "y = data['Result']"
   ]
  },
  {
   "cell_type": "code",
   "execution_count": 56,
   "metadata": {},
   "outputs": [],
   "source": [
    "X_train_nafld, X_test_nafld, y_train, y_test = train_test_split(X_nafld, y, test_size=0.3, random_state=42)\n",
    "X_train_lft, X_test_lft, _, _ = train_test_split(X_lft, y, test_size=0.3, random_state=42)\n",
    "X_train_albi, X_test_albi, _, _ = train_test_split(X_albi, y, test_size=0.3, random_state=42)"
   ]
  },
  {
   "cell_type": "code",
   "execution_count": 57,
   "metadata": {},
   "outputs": [],
   "source": [
    "\n",
    "X_train_nafld = scaler.fit_transform(X_train_nafld)\n",
    "X_test_nafld = scaler.transform(X_test_nafld)\n",
    "X_train_lft = scaler.fit_transform(X_train_lft)\n",
    "X_test_lft = scaler.transform(X_test_lft)\n",
    "X_train_albi = scaler.fit_transform(X_train_albi)\n",
    "X_test_albi = scaler.transform(X_test_albi)\n"
   ]
  },
  {
   "cell_type": "code",
   "execution_count": 47,
   "metadata": {},
   "outputs": [],
   "source": [
    "models = {\n",
    "    'Logistic Regression': LogisticRegression(random_state=42),\n",
    "    'Random Forest': RandomForestClassifier(random_state=42),\n",
    "    'SVC': LinearSVC(random_state=42, max_iter=10000),\n",
    "    'Naive Bayes': GaussianNB(),\n",
    "    'K-Nearest Neighbors': KNeighborsClassifier(n_neighbors=5),\n",
    "    'Neural Network': MLPClassifier(random_state=42),\n",
    "    'Decision Tree': DecisionTreeClassifier(random_state=42)\n",
    "}\n"
   ]
  },
  {
   "cell_type": "code",
   "execution_count": 48,
   "metadata": {},
   "outputs": [],
   "source": [
    "def evaluate_models(X_train, X_test, y_train, y_test, method_name):\n",
    "    accuracy_scores = {}\n",
    "    for model_name, model in models.items():\n",
    "        model.fit(X_train, y_train)\n",
    "        y_pred = model.predict(X_test)\n",
    "        accuracy = accuracy_score(y_test, y_pred)\n",
    "        accuracy_scores[model_name] = accuracy\n",
    "        print(f'{model_name} Accuracy for {method_name}: {accuracy}')\n",
    "        print(classification_report(y_test, y_pred))\n",
    "    return accuracy_scores"
   ]
  },
  {
   "cell_type": "code",
   "execution_count": 58,
   "metadata": {},
   "outputs": [
    {
     "name": "stdout",
     "output_type": "stream",
     "text": [
      "NAFLD Method\n",
      "Logistic Regression Accuracy for NAFLD: 0.720351867940921\n",
      "              precision    recall  f1-score   support\n",
      "\n",
      "         1.0       0.73      0.97      0.83      6627\n",
      "         2.0       0.51      0.09      0.15      2581\n",
      "\n",
      "    accuracy                           0.72      9208\n",
      "   macro avg       0.62      0.53      0.49      9208\n",
      "weighted avg       0.67      0.72      0.64      9208\n",
      "\n",
      "Random Forest Accuracy for NAFLD: 0.9937011294526499\n",
      "              precision    recall  f1-score   support\n",
      "\n",
      "         1.0       0.99      1.00      1.00      6627\n",
      "         2.0       1.00      0.98      0.99      2581\n",
      "\n",
      "    accuracy                           0.99      9208\n",
      "   macro avg       0.99      0.99      0.99      9208\n",
      "weighted avg       0.99      0.99      0.99      9208\n",
      "\n"
     ]
    },
    {
     "name": "stderr",
     "output_type": "stream",
     "text": [
      "C:\\Users\\ssudh\\AppData\\Local\\Packages\\PythonSoftwareFoundation.Python.3.12_qbz5n2kfra8p0\\LocalCache\\local-packages\\Python312\\site-packages\\sklearn\\svm\\_classes.py:31: FutureWarning: The default value of `dual` will change from `True` to `'auto'` in 1.5. Set the value of `dual` explicitly to suppress the warning.\n",
      "  warnings.warn(\n"
     ]
    },
    {
     "name": "stdout",
     "output_type": "stream",
     "text": [
      "SVC Accuracy for NAFLD: 0.7161164205039097\n",
      "              precision    recall  f1-score   support\n",
      "\n",
      "         1.0       0.72      0.99      0.83      6627\n",
      "         2.0       0.35      0.02      0.03      2581\n",
      "\n",
      "    accuracy                           0.72      9208\n",
      "   macro avg       0.54      0.50      0.43      9208\n",
      "weighted avg       0.62      0.72      0.61      9208\n",
      "\n",
      "Naive Bayes Accuracy for NAFLD: 0.5169417897480452\n",
      "              precision    recall  f1-score   support\n",
      "\n",
      "         1.0       0.95      0.35      0.51      6627\n",
      "         2.0       0.36      0.95      0.52      2581\n",
      "\n",
      "    accuracy                           0.52      9208\n",
      "   macro avg       0.66      0.65      0.52      9208\n",
      "weighted avg       0.78      0.52      0.51      9208\n",
      "\n",
      "K-Nearest Neighbors Accuracy for NAFLD: 0.8482841007819287\n",
      "              precision    recall  f1-score   support\n",
      "\n",
      "         1.0       0.89      0.90      0.90      6627\n",
      "         2.0       0.74      0.71      0.72      2581\n",
      "\n",
      "    accuracy                           0.85      9208\n",
      "   macro avg       0.81      0.81      0.81      9208\n",
      "weighted avg       0.85      0.85      0.85      9208\n",
      "\n"
     ]
    },
    {
     "name": "stderr",
     "output_type": "stream",
     "text": [
      "C:\\Users\\ssudh\\AppData\\Local\\Packages\\PythonSoftwareFoundation.Python.3.12_qbz5n2kfra8p0\\LocalCache\\local-packages\\Python312\\site-packages\\sklearn\\neural_network\\_multilayer_perceptron.py:691: ConvergenceWarning: Stochastic Optimizer: Maximum iterations (200) reached and the optimization hasn't converged yet.\n",
      "  warnings.warn(\n"
     ]
    },
    {
     "name": "stdout",
     "output_type": "stream",
     "text": [
      "Neural Network Accuracy for NAFLD: 0.7662901824500434\n",
      "              precision    recall  f1-score   support\n",
      "\n",
      "         1.0       0.80      0.89      0.85      6627\n",
      "         2.0       0.62      0.44      0.51      2581\n",
      "\n",
      "    accuracy                           0.77      9208\n",
      "   macro avg       0.71      0.67      0.68      9208\n",
      "weighted avg       0.75      0.77      0.75      9208\n",
      "\n",
      "Decision Tree Accuracy for NAFLD: 0.9903344917463076\n",
      "              precision    recall  f1-score   support\n",
      "\n",
      "         1.0       0.99      0.99      0.99      6627\n",
      "         2.0       0.98      0.98      0.98      2581\n",
      "\n",
      "    accuracy                           0.99      9208\n",
      "   macro avg       0.99      0.99      0.99      9208\n",
      "weighted avg       0.99      0.99      0.99      9208\n",
      "\n",
      "\n",
      "LFT Method\n",
      "Logistic Regression Accuracy for LFT: 0.7185056472632494\n",
      "              precision    recall  f1-score   support\n",
      "\n",
      "         1.0       0.75      0.92      0.83      6627\n",
      "         2.0       0.49      0.19      0.28      2581\n",
      "\n",
      "    accuracy                           0.72      9208\n",
      "   macro avg       0.62      0.56      0.55      9208\n",
      "weighted avg       0.68      0.72      0.67      9208\n",
      "\n",
      "Random Forest Accuracy for LFT: 0.996524761077324\n",
      "              precision    recall  f1-score   support\n",
      "\n",
      "         1.0       1.00      1.00      1.00      6627\n",
      "         2.0       1.00      0.99      0.99      2581\n",
      "\n",
      "    accuracy                           1.00      9208\n",
      "   macro avg       1.00      0.99      1.00      9208\n",
      "weighted avg       1.00      1.00      1.00      9208\n",
      "\n"
     ]
    },
    {
     "name": "stderr",
     "output_type": "stream",
     "text": [
      "C:\\Users\\ssudh\\AppData\\Local\\Packages\\PythonSoftwareFoundation.Python.3.12_qbz5n2kfra8p0\\LocalCache\\local-packages\\Python312\\site-packages\\sklearn\\svm\\_classes.py:31: FutureWarning: The default value of `dual` will change from `True` to `'auto'` in 1.5. Set the value of `dual` explicitly to suppress the warning.\n",
      "  warnings.warn(\n"
     ]
    },
    {
     "name": "stdout",
     "output_type": "stream",
     "text": [
      "SVC Accuracy for LFT: 0.7277367506516073\n",
      "              precision    recall  f1-score   support\n",
      "\n",
      "         1.0       0.73      0.97      0.84      6627\n",
      "         2.0       0.59      0.09      0.16      2581\n",
      "\n",
      "    accuracy                           0.73      9208\n",
      "   macro avg       0.66      0.53      0.50      9208\n",
      "weighted avg       0.69      0.73      0.65      9208\n",
      "\n",
      "Naive Bayes Accuracy for LFT: 0.5610338835794961\n",
      "              precision    recall  f1-score   support\n",
      "\n",
      "         1.0       0.96      0.41      0.57      6627\n",
      "         2.0       0.39      0.96      0.55      2581\n",
      "\n",
      "    accuracy                           0.56      9208\n",
      "   macro avg       0.67      0.68      0.56      9208\n",
      "weighted avg       0.80      0.56      0.57      9208\n",
      "\n",
      "K-Nearest Neighbors Accuracy for LFT: 0.9833840139009556\n",
      "              precision    recall  f1-score   support\n",
      "\n",
      "         1.0       0.99      0.99      0.99      6627\n",
      "         2.0       0.97      0.97      0.97      2581\n",
      "\n",
      "    accuracy                           0.98      9208\n",
      "   macro avg       0.98      0.98      0.98      9208\n",
      "weighted avg       0.98      0.98      0.98      9208\n",
      "\n"
     ]
    },
    {
     "name": "stderr",
     "output_type": "stream",
     "text": [
      "C:\\Users\\ssudh\\AppData\\Local\\Packages\\PythonSoftwareFoundation.Python.3.12_qbz5n2kfra8p0\\LocalCache\\local-packages\\Python312\\site-packages\\sklearn\\neural_network\\_multilayer_perceptron.py:691: ConvergenceWarning: Stochastic Optimizer: Maximum iterations (200) reached and the optimization hasn't converged yet.\n",
      "  warnings.warn(\n"
     ]
    },
    {
     "name": "stdout",
     "output_type": "stream",
     "text": [
      "Neural Network Accuracy for LFT: 0.8937880104257168\n",
      "              precision    recall  f1-score   support\n",
      "\n",
      "         1.0       0.92      0.93      0.93      6627\n",
      "         2.0       0.82      0.80      0.81      2581\n",
      "\n",
      "    accuracy                           0.89      9208\n",
      "   macro avg       0.87      0.86      0.87      9208\n",
      "weighted avg       0.89      0.89      0.89      9208\n",
      "\n",
      "Decision Tree Accuracy for LFT: 0.9915291051259774\n",
      "              precision    recall  f1-score   support\n",
      "\n",
      "         1.0       0.99      0.99      0.99      6627\n",
      "         2.0       0.99      0.98      0.98      2581\n",
      "\n",
      "    accuracy                           0.99      9208\n",
      "   macro avg       0.99      0.99      0.99      9208\n",
      "weighted avg       0.99      0.99      0.99      9208\n",
      "\n",
      "\n",
      "ALBI Method\n",
      "Logistic Regression Accuracy for ALBI: 0.7167680278019114\n",
      "              precision    recall  f1-score   support\n",
      "\n",
      "         1.0       0.72      1.00      0.84      6627\n",
      "         2.0       0.00      0.00      0.00      2581\n",
      "\n",
      "    accuracy                           0.72      9208\n",
      "   macro avg       0.36      0.50      0.42      9208\n",
      "weighted avg       0.52      0.72      0.60      9208\n",
      "\n",
      "Random Forest Accuracy for ALBI: 0.8702215464813206\n",
      "              precision    recall  f1-score   support\n",
      "\n",
      "         1.0       0.90      0.92      0.91      6627\n",
      "         2.0       0.78      0.75      0.76      2581\n",
      "\n",
      "    accuracy                           0.87      9208\n",
      "   macro avg       0.84      0.83      0.84      9208\n",
      "weighted avg       0.87      0.87      0.87      9208\n",
      "\n",
      "SVC Accuracy for ALBI: 0.7183970460469157\n",
      "              precision    recall  f1-score   support\n",
      "\n",
      "         1.0       0.72      1.00      0.84      6627\n",
      "         2.0       0.00      0.00      0.00      2581\n",
      "\n",
      "    accuracy                           0.72      9208\n",
      "   macro avg       0.36      0.50      0.42      9208\n",
      "weighted avg       0.52      0.72      0.60      9208\n",
      "\n",
      "Naive Bayes Accuracy for ALBI: 0.5165073848827106\n",
      "              precision    recall  f1-score   support\n",
      "\n",
      "         1.0       0.92      0.36      0.52      6627\n",
      "         2.0       0.36      0.92      0.52      2581\n",
      "\n",
      "    accuracy                           0.52      9208\n",
      "   macro avg       0.64      0.64      0.52      9208\n",
      "weighted avg       0.76      0.52      0.52      9208\n",
      "\n"
     ]
    },
    {
     "name": "stderr",
     "output_type": "stream",
     "text": [
      "C:\\Users\\ssudh\\AppData\\Local\\Packages\\PythonSoftwareFoundation.Python.3.12_qbz5n2kfra8p0\\LocalCache\\local-packages\\Python312\\site-packages\\sklearn\\svm\\_classes.py:31: FutureWarning: The default value of `dual` will change from `True` to `'auto'` in 1.5. Set the value of `dual` explicitly to suppress the warning.\n",
      "  warnings.warn(\n"
     ]
    },
    {
     "name": "stdout",
     "output_type": "stream",
     "text": [
      "K-Nearest Neighbors Accuracy for ALBI: 0.8504561251086012\n",
      "              precision    recall  f1-score   support\n",
      "\n",
      "         1.0       0.90      0.90      0.90      6627\n",
      "         2.0       0.73      0.73      0.73      2581\n",
      "\n",
      "    accuracy                           0.85      9208\n",
      "   macro avg       0.81      0.82      0.81      9208\n",
      "weighted avg       0.85      0.85      0.85      9208\n",
      "\n",
      "Neural Network Accuracy for ALBI: 0.7389226759339704\n",
      "              precision    recall  f1-score   support\n",
      "\n",
      "         1.0       0.77      0.90      0.83      6627\n",
      "         2.0       0.56      0.33      0.41      2581\n",
      "\n",
      "    accuracy                           0.74      9208\n",
      "   macro avg       0.67      0.61      0.62      9208\n",
      "weighted avg       0.71      0.74      0.71      9208\n",
      "\n",
      "Decision Tree Accuracy for ALBI: 0.8693527367506516\n",
      "              precision    recall  f1-score   support\n",
      "\n",
      "         1.0       0.90      0.91      0.91      6627\n",
      "         2.0       0.77      0.75      0.76      2581\n",
      "\n",
      "    accuracy                           0.87      9208\n",
      "   macro avg       0.84      0.83      0.84      9208\n",
      "weighted avg       0.87      0.87      0.87      9208\n",
      "\n"
     ]
    },
    {
     "name": "stderr",
     "output_type": "stream",
     "text": [
      "C:\\Users\\ssudh\\AppData\\Local\\Packages\\PythonSoftwareFoundation.Python.3.12_qbz5n2kfra8p0\\LocalCache\\local-packages\\Python312\\site-packages\\sklearn\\neural_network\\_multilayer_perceptron.py:691: ConvergenceWarning: Stochastic Optimizer: Maximum iterations (200) reached and the optimization hasn't converged yet.\n",
      "  warnings.warn(\n"
     ]
    }
   ],
   "source": [
    "print(\"NAFLD Method\")\n",
    "nafld_accuracy = evaluate_models(X_train_nafld, X_test_nafld, y_train, y_test, 'NAFLD')\n",
    "\n",
    "print(\"\\nLFT Method\")\n",
    "lft_accuracy = evaluate_models(X_train_lft, X_test_lft, y_train, y_test, 'LFT')\n",
    "\n",
    "print(\"\\nALBI Method\")\n",
    "albi_accuracy = evaluate_models(X_train_albi, X_test_albi, y_train, y_test, 'ALBI')"
   ]
  },
  {
   "cell_type": "code",
   "execution_count": 59,
   "metadata": {},
   "outputs": [],
   "source": [
    "def compare_accuracies(nafld_accuracy, lft_accuracy, albi_accuracy):\n",
    "    print(\"\\nOverall Accuracy Comparison:\")\n",
    "    for model_name in models.keys():\n",
    "        print(f\"{model_name}:\")\n",
    "        print(f\"  NAFLD Accuracy: {nafld_accuracy[model_name]}\")\n",
    "        print(f\"  LFT Accuracy: {lft_accuracy[model_name]}\")\n",
    "        print(f\"  ALBI Accuracy: {albi_accuracy[model_name]}\")\n",
    "        print()\n"
   ]
  },
  {
   "cell_type": "code",
   "execution_count": 61,
   "metadata": {},
   "outputs": [
    {
     "name": "stdout",
     "output_type": "stream",
     "text": [
      "\n",
      "Overall Accuracy Comparison:\n",
      "Logistic Regression:\n",
      "  NAFLD Accuracy: 0.720351867940921\n",
      "  LFT Accuracy: 0.7185056472632494\n",
      "  ALBI Accuracy: 0.7167680278019114\n",
      "\n",
      "Random Forest:\n",
      "  NAFLD Accuracy: 0.9937011294526499\n",
      "  LFT Accuracy: 0.996524761077324\n",
      "  ALBI Accuracy: 0.8702215464813206\n",
      "\n",
      "SVC:\n",
      "  NAFLD Accuracy: 0.7161164205039097\n",
      "  LFT Accuracy: 0.7277367506516073\n",
      "  ALBI Accuracy: 0.7183970460469157\n",
      "\n",
      "Naive Bayes:\n",
      "  NAFLD Accuracy: 0.5169417897480452\n",
      "  LFT Accuracy: 0.5610338835794961\n",
      "  ALBI Accuracy: 0.5165073848827106\n",
      "\n",
      "K-Nearest Neighbors:\n",
      "  NAFLD Accuracy: 0.8482841007819287\n",
      "  LFT Accuracy: 0.9833840139009556\n",
      "  ALBI Accuracy: 0.8504561251086012\n",
      "\n",
      "Neural Network:\n",
      "  NAFLD Accuracy: 0.7662901824500434\n",
      "  LFT Accuracy: 0.8937880104257168\n",
      "  ALBI Accuracy: 0.7389226759339704\n",
      "\n",
      "Decision Tree:\n",
      "  NAFLD Accuracy: 0.9903344917463076\n",
      "  LFT Accuracy: 0.9915291051259774\n",
      "  ALBI Accuracy: 0.8693527367506516\n",
      "\n"
     ]
    }
   ],
   "source": [
    "compare_accuracies(nafld_accuracy, lft_accuracy, albi_accuracy)"
   ]
  },
  {
   "cell_type": "code",
   "execution_count": null,
   "metadata": {},
   "outputs": [],
   "source": []
  }
 ],
 "metadata": {
  "kernelspec": {
   "display_name": "Python 3",
   "language": "python",
   "name": "python3"
  },
  "language_info": {
   "codemirror_mode": {
    "name": "ipython",
    "version": 3
   },
   "file_extension": ".py",
   "mimetype": "text/x-python",
   "name": "python",
   "nbconvert_exporter": "python",
   "pygments_lexer": "ipython3",
   "version": "3.12.4"
  }
 },
 "nbformat": 4,
 "nbformat_minor": 2
}
